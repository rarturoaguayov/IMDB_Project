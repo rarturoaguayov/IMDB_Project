{
  "cells": [
    {
      "cell_type": "code",
      "source": [],
      "metadata": {
        "id": "NQyNBJkhQgGN"
      },
      "id": "NQyNBJkhQgGN",
      "execution_count": null,
      "outputs": []
    },
    {
      "cell_type": "markdown",
      "id": "c95b281f",
      "metadata": {
        "papermill": {
          "duration": 0.007786,
          "end_time": "2022-07-07T16:44:57.202773",
          "exception": false,
          "start_time": "2022-07-07T16:44:57.194987",
          "status": "completed"
        },
        "tags": [],
        "id": "c95b281f"
      },
      "source": [
        "# **Importing Libraries**"
      ]
    },
    {
      "cell_type": "code",
      "execution_count": null,
      "id": "7d294c1b",
      "metadata": {
        "execution": {
          "iopub.execute_input": "2022-07-07T16:44:57.223659Z",
          "iopub.status.busy": "2022-07-07T16:44:57.222948Z",
          "iopub.status.idle": "2022-07-07T16:44:58.583664Z",
          "shell.execute_reply": "2022-07-07T16:44:58.582452Z"
        },
        "papermill": {
          "duration": 1.374163,
          "end_time": "2022-07-07T16:44:58.586559",
          "exception": false,
          "start_time": "2022-07-07T16:44:57.212396",
          "status": "completed"
        },
        "tags": [],
        "id": "7d294c1b"
      },
      "outputs": [],
      "source": [
        "from sklearn import preprocessing\n",
        "from sklearn.model_selection import train_test_split\n",
        "import matplotlib.pyplot as plt\n",
        "import seaborn as sns\n",
        "import pandas as pd\n",
        "import numpy as np"
      ]
    },
    {
      "cell_type": "markdown",
      "id": "5287fb99",
      "metadata": {
        "papermill": {
          "duration": 0.006249,
          "end_time": "2022-07-07T16:44:58.599604",
          "exception": false,
          "start_time": "2022-07-07T16:44:58.593355",
          "status": "completed"
        },
        "tags": [],
        "id": "5287fb99"
      },
      "source": [
        "# **Importing Dataset**"
      ]
    },
    {
      "cell_type": "code",
      "execution_count": null,
      "id": "4fa33096",
      "metadata": {
        "execution": {
          "iopub.execute_input": "2022-07-07T16:44:58.614885Z",
          "iopub.status.busy": "2022-07-07T16:44:58.614226Z",
          "iopub.status.idle": "2022-07-07T16:44:58.649161Z",
          "shell.execute_reply": "2022-07-07T16:44:58.647782Z"
        },
        "papermill": {
          "duration": 0.045914,
          "end_time": "2022-07-07T16:44:58.652048",
          "exception": false,
          "start_time": "2022-07-07T16:44:58.606134",
          "status": "completed"
        },
        "tags": [],
        "id": "4fa33096"
      },
      "outputs": [],
      "source": [
        "df = pd.read_csv(\"C:/Users/dug_a/Documents/Data Science/Aletia/SQL/SQL Data Analysis/Ejercicio clase/imdb_top_1000.csv\")"
      ]
    },
    {
      "cell_type": "markdown",
      "id": "7e2b1733",
      "metadata": {
        "papermill": {
          "duration": 0.006393,
          "end_time": "2022-07-07T16:44:58.665246",
          "exception": false,
          "start_time": "2022-07-07T16:44:58.658853",
          "status": "completed"
        },
        "tags": [],
        "id": "7e2b1733"
      },
      "source": [
        "# **Exploratory Data Analysis**"
      ]
    },
    {
      "cell_type": "code",
      "execution_count": null,
      "id": "13b09aa4",
      "metadata": {
        "execution": {
          "iopub.execute_input": "2022-07-07T16:44:58.680502Z",
          "iopub.status.busy": "2022-07-07T16:44:58.680066Z",
          "iopub.status.idle": "2022-07-07T16:44:58.689371Z",
          "shell.execute_reply": "2022-07-07T16:44:58.688227Z"
        },
        "papermill": {
          "duration": 0.020022,
          "end_time": "2022-07-07T16:44:58.692012",
          "exception": false,
          "start_time": "2022-07-07T16:44:58.671990",
          "status": "completed"
        },
        "tags": [],
        "id": "13b09aa4",
        "outputId": "9c3c7d89-b176-4c71-c96e-93ba6f3b9a53"
      },
      "outputs": [
        {
          "data": {
            "text/plain": [
              "(1000, 16)"
            ]
          },
          "execution_count": 4,
          "metadata": {},
          "output_type": "execute_result"
        }
      ],
      "source": [
        "# shape of dataset\n",
        "df.shape"
      ]
    },
    {
      "cell_type": "code",
      "execution_count": null,
      "id": "6ea062a5",
      "metadata": {
        "execution": {
          "iopub.execute_input": "2022-07-07T16:44:58.708083Z",
          "iopub.status.busy": "2022-07-07T16:44:58.707249Z",
          "iopub.status.idle": "2022-07-07T16:44:58.736077Z",
          "shell.execute_reply": "2022-07-07T16:44:58.735075Z"
        },
        "papermill": {
          "duration": 0.039286,
          "end_time": "2022-07-07T16:44:58.738407",
          "exception": false,
          "start_time": "2022-07-07T16:44:58.699121",
          "status": "completed"
        },
        "tags": [],
        "id": "6ea062a5",
        "outputId": "1a6aee13-bee7-4052-b46a-a43a96e9a71f"
      },
      "outputs": [
        {
          "data": {
            "text/html": [
              "<div>\n",
              "<style scoped>\n",
              "    .dataframe tbody tr th:only-of-type {\n",
              "        vertical-align: middle;\n",
              "    }\n",
              "\n",
              "    .dataframe tbody tr th {\n",
              "        vertical-align: top;\n",
              "    }\n",
              "\n",
              "    .dataframe thead th {\n",
              "        text-align: right;\n",
              "    }\n",
              "</style>\n",
              "<table border=\"1\" class=\"dataframe\">\n",
              "  <thead>\n",
              "    <tr style=\"text-align: right;\">\n",
              "      <th></th>\n",
              "      <th>Poster_Link</th>\n",
              "      <th>Series_Title</th>\n",
              "      <th>Released_Year</th>\n",
              "      <th>Certificate</th>\n",
              "      <th>Runtime</th>\n",
              "      <th>Genre</th>\n",
              "      <th>IMDB_Rating</th>\n",
              "      <th>Overview</th>\n",
              "      <th>Meta_score</th>\n",
              "      <th>Director</th>\n",
              "      <th>Star1</th>\n",
              "      <th>Star2</th>\n",
              "      <th>Star3</th>\n",
              "      <th>Star4</th>\n",
              "      <th>No_of_Votes</th>\n",
              "      <th>Gross</th>\n",
              "    </tr>\n",
              "  </thead>\n",
              "  <tbody>\n",
              "    <tr>\n",
              "      <th>0</th>\n",
              "      <td>https://m.media-amazon.com/images/M/MV5BMDFkYT...</td>\n",
              "      <td>The Shawshank Redemption</td>\n",
              "      <td>1994</td>\n",
              "      <td>A</td>\n",
              "      <td>142 min</td>\n",
              "      <td>Drama</td>\n",
              "      <td>9.3</td>\n",
              "      <td>Two imprisoned men bond over a number of years...</td>\n",
              "      <td>80.0</td>\n",
              "      <td>Frank Darabont</td>\n",
              "      <td>Tim Robbins</td>\n",
              "      <td>Morgan Freeman</td>\n",
              "      <td>Bob Gunton</td>\n",
              "      <td>William Sadler</td>\n",
              "      <td>2343110</td>\n",
              "      <td>28,341,469</td>\n",
              "    </tr>\n",
              "    <tr>\n",
              "      <th>1</th>\n",
              "      <td>https://m.media-amazon.com/images/M/MV5BM2MyNj...</td>\n",
              "      <td>The Godfather</td>\n",
              "      <td>1972</td>\n",
              "      <td>A</td>\n",
              "      <td>175 min</td>\n",
              "      <td>Crime, Drama</td>\n",
              "      <td>9.2</td>\n",
              "      <td>An organized crime dynasty's aging patriarch t...</td>\n",
              "      <td>100.0</td>\n",
              "      <td>Francis Ford Coppola</td>\n",
              "      <td>Marlon Brando</td>\n",
              "      <td>Al Pacino</td>\n",
              "      <td>James Caan</td>\n",
              "      <td>Diane Keaton</td>\n",
              "      <td>1620367</td>\n",
              "      <td>134,966,411</td>\n",
              "    </tr>\n",
              "    <tr>\n",
              "      <th>2</th>\n",
              "      <td>https://m.media-amazon.com/images/M/MV5BMTMxNT...</td>\n",
              "      <td>The Dark Knight</td>\n",
              "      <td>2008</td>\n",
              "      <td>UA</td>\n",
              "      <td>152 min</td>\n",
              "      <td>Action, Crime, Drama</td>\n",
              "      <td>9.0</td>\n",
              "      <td>When the menace known as the Joker wreaks havo...</td>\n",
              "      <td>84.0</td>\n",
              "      <td>Christopher Nolan</td>\n",
              "      <td>Christian Bale</td>\n",
              "      <td>Heath Ledger</td>\n",
              "      <td>Aaron Eckhart</td>\n",
              "      <td>Michael Caine</td>\n",
              "      <td>2303232</td>\n",
              "      <td>534,858,444</td>\n",
              "    </tr>\n",
              "    <tr>\n",
              "      <th>3</th>\n",
              "      <td>https://m.media-amazon.com/images/M/MV5BMWMwMG...</td>\n",
              "      <td>The Godfather: Part II</td>\n",
              "      <td>1974</td>\n",
              "      <td>A</td>\n",
              "      <td>202 min</td>\n",
              "      <td>Crime, Drama</td>\n",
              "      <td>9.0</td>\n",
              "      <td>The early life and career of Vito Corleone in ...</td>\n",
              "      <td>90.0</td>\n",
              "      <td>Francis Ford Coppola</td>\n",
              "      <td>Al Pacino</td>\n",
              "      <td>Robert De Niro</td>\n",
              "      <td>Robert Duvall</td>\n",
              "      <td>Diane Keaton</td>\n",
              "      <td>1129952</td>\n",
              "      <td>57,300,000</td>\n",
              "    </tr>\n",
              "    <tr>\n",
              "      <th>4</th>\n",
              "      <td>https://m.media-amazon.com/images/M/MV5BMWU4N2...</td>\n",
              "      <td>12 Angry Men</td>\n",
              "      <td>1957</td>\n",
              "      <td>U</td>\n",
              "      <td>96 min</td>\n",
              "      <td>Crime, Drama</td>\n",
              "      <td>9.0</td>\n",
              "      <td>A jury holdout attempts to prevent a miscarria...</td>\n",
              "      <td>96.0</td>\n",
              "      <td>Sidney Lumet</td>\n",
              "      <td>Henry Fonda</td>\n",
              "      <td>Lee J. Cobb</td>\n",
              "      <td>Martin Balsam</td>\n",
              "      <td>John Fiedler</td>\n",
              "      <td>689845</td>\n",
              "      <td>4,360,000</td>\n",
              "    </tr>\n",
              "  </tbody>\n",
              "</table>\n",
              "</div>"
            ],
            "text/plain": [
              "                                         Poster_Link  \\\n",
              "0  https://m.media-amazon.com/images/M/MV5BMDFkYT...   \n",
              "1  https://m.media-amazon.com/images/M/MV5BM2MyNj...   \n",
              "2  https://m.media-amazon.com/images/M/MV5BMTMxNT...   \n",
              "3  https://m.media-amazon.com/images/M/MV5BMWMwMG...   \n",
              "4  https://m.media-amazon.com/images/M/MV5BMWU4N2...   \n",
              "\n",
              "               Series_Title Released_Year Certificate  Runtime  \\\n",
              "0  The Shawshank Redemption          1994           A  142 min   \n",
              "1             The Godfather          1972           A  175 min   \n",
              "2           The Dark Knight          2008          UA  152 min   \n",
              "3    The Godfather: Part II          1974           A  202 min   \n",
              "4              12 Angry Men          1957           U   96 min   \n",
              "\n",
              "                  Genre  IMDB_Rating  \\\n",
              "0                 Drama          9.3   \n",
              "1          Crime, Drama          9.2   \n",
              "2  Action, Crime, Drama          9.0   \n",
              "3          Crime, Drama          9.0   \n",
              "4          Crime, Drama          9.0   \n",
              "\n",
              "                                            Overview  Meta_score  \\\n",
              "0  Two imprisoned men bond over a number of years...        80.0   \n",
              "1  An organized crime dynasty's aging patriarch t...       100.0   \n",
              "2  When the menace known as the Joker wreaks havo...        84.0   \n",
              "3  The early life and career of Vito Corleone in ...        90.0   \n",
              "4  A jury holdout attempts to prevent a miscarria...        96.0   \n",
              "\n",
              "               Director           Star1           Star2          Star3  \\\n",
              "0        Frank Darabont     Tim Robbins  Morgan Freeman     Bob Gunton   \n",
              "1  Francis Ford Coppola   Marlon Brando       Al Pacino     James Caan   \n",
              "2     Christopher Nolan  Christian Bale    Heath Ledger  Aaron Eckhart   \n",
              "3  Francis Ford Coppola       Al Pacino  Robert De Niro  Robert Duvall   \n",
              "4          Sidney Lumet     Henry Fonda     Lee J. Cobb  Martin Balsam   \n",
              "\n",
              "            Star4  No_of_Votes        Gross  \n",
              "0  William Sadler      2343110   28,341,469  \n",
              "1    Diane Keaton      1620367  134,966,411  \n",
              "2   Michael Caine      2303232  534,858,444  \n",
              "3    Diane Keaton      1129952   57,300,000  \n",
              "4    John Fiedler       689845    4,360,000  "
            ]
          },
          "execution_count": 5,
          "metadata": {},
          "output_type": "execute_result"
        }
      ],
      "source": [
        "# first 5 records of dataset\n",
        "df.head()"
      ]
    },
    {
      "cell_type": "code",
      "execution_count": null,
      "id": "1c7c1867",
      "metadata": {
        "execution": {
          "iopub.execute_input": "2022-07-07T16:44:58.754607Z",
          "iopub.status.busy": "2022-07-07T16:44:58.754192Z",
          "iopub.status.idle": "2022-07-07T16:44:58.774279Z",
          "shell.execute_reply": "2022-07-07T16:44:58.773439Z"
        },
        "papermill": {
          "duration": 0.031023,
          "end_time": "2022-07-07T16:44:58.776664",
          "exception": false,
          "start_time": "2022-07-07T16:44:58.745641",
          "status": "completed"
        },
        "tags": [],
        "id": "1c7c1867",
        "outputId": "522dc81b-fe2a-4897-db71-419f4a19d65d"
      },
      "outputs": [
        {
          "data": {
            "text/html": [
              "<div>\n",
              "<style scoped>\n",
              "    .dataframe tbody tr th:only-of-type {\n",
              "        vertical-align: middle;\n",
              "    }\n",
              "\n",
              "    .dataframe tbody tr th {\n",
              "        vertical-align: top;\n",
              "    }\n",
              "\n",
              "    .dataframe thead th {\n",
              "        text-align: right;\n",
              "    }\n",
              "</style>\n",
              "<table border=\"1\" class=\"dataframe\">\n",
              "  <thead>\n",
              "    <tr style=\"text-align: right;\">\n",
              "      <th></th>\n",
              "      <th>Poster_Link</th>\n",
              "      <th>Series_Title</th>\n",
              "      <th>Released_Year</th>\n",
              "      <th>Certificate</th>\n",
              "      <th>Runtime</th>\n",
              "      <th>Genre</th>\n",
              "      <th>IMDB_Rating</th>\n",
              "      <th>Overview</th>\n",
              "      <th>Meta_score</th>\n",
              "      <th>Director</th>\n",
              "      <th>Star1</th>\n",
              "      <th>Star2</th>\n",
              "      <th>Star3</th>\n",
              "      <th>Star4</th>\n",
              "      <th>No_of_Votes</th>\n",
              "      <th>Gross</th>\n",
              "    </tr>\n",
              "  </thead>\n",
              "  <tbody>\n",
              "    <tr>\n",
              "      <th>995</th>\n",
              "      <td>https://m.media-amazon.com/images/M/MV5BNGEwMT...</td>\n",
              "      <td>Breakfast at Tiffany's</td>\n",
              "      <td>1961</td>\n",
              "      <td>A</td>\n",
              "      <td>115 min</td>\n",
              "      <td>Comedy, Drama, Romance</td>\n",
              "      <td>7.6</td>\n",
              "      <td>A young New York socialite becomes interested ...</td>\n",
              "      <td>76.0</td>\n",
              "      <td>Blake Edwards</td>\n",
              "      <td>Audrey Hepburn</td>\n",
              "      <td>George Peppard</td>\n",
              "      <td>Patricia Neal</td>\n",
              "      <td>Buddy Ebsen</td>\n",
              "      <td>166544</td>\n",
              "      <td>NaN</td>\n",
              "    </tr>\n",
              "    <tr>\n",
              "      <th>996</th>\n",
              "      <td>https://m.media-amazon.com/images/M/MV5BODk3Yj...</td>\n",
              "      <td>Giant</td>\n",
              "      <td>1956</td>\n",
              "      <td>G</td>\n",
              "      <td>201 min</td>\n",
              "      <td>Drama, Western</td>\n",
              "      <td>7.6</td>\n",
              "      <td>Sprawling epic covering the life of a Texas ca...</td>\n",
              "      <td>84.0</td>\n",
              "      <td>George Stevens</td>\n",
              "      <td>Elizabeth Taylor</td>\n",
              "      <td>Rock Hudson</td>\n",
              "      <td>James Dean</td>\n",
              "      <td>Carroll Baker</td>\n",
              "      <td>34075</td>\n",
              "      <td>NaN</td>\n",
              "    </tr>\n",
              "    <tr>\n",
              "      <th>997</th>\n",
              "      <td>https://m.media-amazon.com/images/M/MV5BM2U3Yz...</td>\n",
              "      <td>From Here to Eternity</td>\n",
              "      <td>1953</td>\n",
              "      <td>Passed</td>\n",
              "      <td>118 min</td>\n",
              "      <td>Drama, Romance, War</td>\n",
              "      <td>7.6</td>\n",
              "      <td>In Hawaii in 1941, a private is cruelly punish...</td>\n",
              "      <td>85.0</td>\n",
              "      <td>Fred Zinnemann</td>\n",
              "      <td>Burt Lancaster</td>\n",
              "      <td>Montgomery Clift</td>\n",
              "      <td>Deborah Kerr</td>\n",
              "      <td>Donna Reed</td>\n",
              "      <td>43374</td>\n",
              "      <td>30,500,000</td>\n",
              "    </tr>\n",
              "    <tr>\n",
              "      <th>998</th>\n",
              "      <td>https://m.media-amazon.com/images/M/MV5BZTBmMj...</td>\n",
              "      <td>Lifeboat</td>\n",
              "      <td>1944</td>\n",
              "      <td>NaN</td>\n",
              "      <td>97 min</td>\n",
              "      <td>Drama, War</td>\n",
              "      <td>7.6</td>\n",
              "      <td>Several survivors of a torpedoed merchant ship...</td>\n",
              "      <td>78.0</td>\n",
              "      <td>Alfred Hitchcock</td>\n",
              "      <td>Tallulah Bankhead</td>\n",
              "      <td>John Hodiak</td>\n",
              "      <td>Walter Slezak</td>\n",
              "      <td>William Bendix</td>\n",
              "      <td>26471</td>\n",
              "      <td>NaN</td>\n",
              "    </tr>\n",
              "    <tr>\n",
              "      <th>999</th>\n",
              "      <td>https://m.media-amazon.com/images/M/MV5BMTY5OD...</td>\n",
              "      <td>The 39 Steps</td>\n",
              "      <td>1935</td>\n",
              "      <td>NaN</td>\n",
              "      <td>86 min</td>\n",
              "      <td>Crime, Mystery, Thriller</td>\n",
              "      <td>7.6</td>\n",
              "      <td>A man in London tries to help a counter-espion...</td>\n",
              "      <td>93.0</td>\n",
              "      <td>Alfred Hitchcock</td>\n",
              "      <td>Robert Donat</td>\n",
              "      <td>Madeleine Carroll</td>\n",
              "      <td>Lucie Mannheim</td>\n",
              "      <td>Godfrey Tearle</td>\n",
              "      <td>51853</td>\n",
              "      <td>NaN</td>\n",
              "    </tr>\n",
              "  </tbody>\n",
              "</table>\n",
              "</div>"
            ],
            "text/plain": [
              "                                           Poster_Link  \\\n",
              "995  https://m.media-amazon.com/images/M/MV5BNGEwMT...   \n",
              "996  https://m.media-amazon.com/images/M/MV5BODk3Yj...   \n",
              "997  https://m.media-amazon.com/images/M/MV5BM2U3Yz...   \n",
              "998  https://m.media-amazon.com/images/M/MV5BZTBmMj...   \n",
              "999  https://m.media-amazon.com/images/M/MV5BMTY5OD...   \n",
              "\n",
              "               Series_Title Released_Year Certificate  Runtime  \\\n",
              "995  Breakfast at Tiffany's          1961           A  115 min   \n",
              "996                   Giant          1956           G  201 min   \n",
              "997   From Here to Eternity          1953      Passed  118 min   \n",
              "998                Lifeboat          1944         NaN   97 min   \n",
              "999            The 39 Steps          1935         NaN   86 min   \n",
              "\n",
              "                        Genre  IMDB_Rating  \\\n",
              "995    Comedy, Drama, Romance          7.6   \n",
              "996            Drama, Western          7.6   \n",
              "997       Drama, Romance, War          7.6   \n",
              "998                Drama, War          7.6   \n",
              "999  Crime, Mystery, Thriller          7.6   \n",
              "\n",
              "                                              Overview  Meta_score  \\\n",
              "995  A young New York socialite becomes interested ...        76.0   \n",
              "996  Sprawling epic covering the life of a Texas ca...        84.0   \n",
              "997  In Hawaii in 1941, a private is cruelly punish...        85.0   \n",
              "998  Several survivors of a torpedoed merchant ship...        78.0   \n",
              "999  A man in London tries to help a counter-espion...        93.0   \n",
              "\n",
              "             Director              Star1              Star2           Star3  \\\n",
              "995     Blake Edwards     Audrey Hepburn     George Peppard   Patricia Neal   \n",
              "996    George Stevens   Elizabeth Taylor        Rock Hudson      James Dean   \n",
              "997    Fred Zinnemann     Burt Lancaster   Montgomery Clift    Deborah Kerr   \n",
              "998  Alfred Hitchcock  Tallulah Bankhead        John Hodiak   Walter Slezak   \n",
              "999  Alfred Hitchcock       Robert Donat  Madeleine Carroll  Lucie Mannheim   \n",
              "\n",
              "              Star4  No_of_Votes       Gross  \n",
              "995     Buddy Ebsen       166544         NaN  \n",
              "996   Carroll Baker        34075         NaN  \n",
              "997      Donna Reed        43374  30,500,000  \n",
              "998  William Bendix        26471         NaN  \n",
              "999  Godfrey Tearle        51853         NaN  "
            ]
          },
          "execution_count": 6,
          "metadata": {},
          "output_type": "execute_result"
        }
      ],
      "source": [
        "# last 5 records of dataset\n",
        "df.tail()"
      ]
    },
    {
      "cell_type": "code",
      "execution_count": null,
      "id": "c26a1573",
      "metadata": {
        "execution": {
          "iopub.execute_input": "2022-07-07T16:44:58.794572Z",
          "iopub.status.busy": "2022-07-07T16:44:58.793869Z",
          "iopub.status.idle": "2022-07-07T16:44:58.822196Z",
          "shell.execute_reply": "2022-07-07T16:44:58.821009Z"
        },
        "papermill": {
          "duration": 0.040458,
          "end_time": "2022-07-07T16:44:58.824732",
          "exception": false,
          "start_time": "2022-07-07T16:44:58.784274",
          "status": "completed"
        },
        "tags": [],
        "id": "c26a1573",
        "outputId": "c8d1ac60-6dc5-4185-e352-c40a54698700"
      },
      "outputs": [
        {
          "name": "stdout",
          "output_type": "stream",
          "text": [
            "<class 'pandas.core.frame.DataFrame'>\n",
            "RangeIndex: 1000 entries, 0 to 999\n",
            "Data columns (total 16 columns):\n",
            " #   Column         Non-Null Count  Dtype  \n",
            "---  ------         --------------  -----  \n",
            " 0   Poster_Link    1000 non-null   object \n",
            " 1   Series_Title   1000 non-null   object \n",
            " 2   Released_Year  1000 non-null   object \n",
            " 3   Certificate    899 non-null    object \n",
            " 4   Runtime        1000 non-null   object \n",
            " 5   Genre          1000 non-null   object \n",
            " 6   IMDB_Rating    1000 non-null   float64\n",
            " 7   Overview       1000 non-null   object \n",
            " 8   Meta_score     843 non-null    float64\n",
            " 9   Director       1000 non-null   object \n",
            " 10  Star1          1000 non-null   object \n",
            " 11  Star2          1000 non-null   object \n",
            " 12  Star3          1000 non-null   object \n",
            " 13  Star4          1000 non-null   object \n",
            " 14  No_of_Votes    1000 non-null   int64  \n",
            " 15  Gross          831 non-null    object \n",
            "dtypes: float64(2), int64(1), object(13)\n",
            "memory usage: 125.1+ KB\n"
          ]
        }
      ],
      "source": [
        "# info regarding train dataset\n",
        "df.info()"
      ]
    },
    {
      "cell_type": "code",
      "execution_count": null,
      "id": "4f0e32eb",
      "metadata": {
        "execution": {
          "iopub.execute_input": "2022-07-07T16:44:58.841890Z",
          "iopub.status.busy": "2022-07-07T16:44:58.841269Z",
          "iopub.status.idle": "2022-07-07T16:44:58.866614Z",
          "shell.execute_reply": "2022-07-07T16:44:58.865352Z"
        },
        "papermill": {
          "duration": 0.037094,
          "end_time": "2022-07-07T16:44:58.869354",
          "exception": false,
          "start_time": "2022-07-07T16:44:58.832260",
          "status": "completed"
        },
        "tags": [],
        "id": "4f0e32eb",
        "outputId": "c155c0f4-a668-471c-8265-7f64a7e24333"
      },
      "outputs": [
        {
          "data": {
            "text/html": [
              "<div>\n",
              "<style scoped>\n",
              "    .dataframe tbody tr th:only-of-type {\n",
              "        vertical-align: middle;\n",
              "    }\n",
              "\n",
              "    .dataframe tbody tr th {\n",
              "        vertical-align: top;\n",
              "    }\n",
              "\n",
              "    .dataframe thead th {\n",
              "        text-align: right;\n",
              "    }\n",
              "</style>\n",
              "<table border=\"1\" class=\"dataframe\">\n",
              "  <thead>\n",
              "    <tr style=\"text-align: right;\">\n",
              "      <th></th>\n",
              "      <th>IMDB_Rating</th>\n",
              "      <th>Meta_score</th>\n",
              "      <th>No_of_Votes</th>\n",
              "    </tr>\n",
              "  </thead>\n",
              "  <tbody>\n",
              "    <tr>\n",
              "      <th>count</th>\n",
              "      <td>1000.000000</td>\n",
              "      <td>843.000000</td>\n",
              "      <td>1.000000e+03</td>\n",
              "    </tr>\n",
              "    <tr>\n",
              "      <th>mean</th>\n",
              "      <td>7.949300</td>\n",
              "      <td>77.971530</td>\n",
              "      <td>2.736929e+05</td>\n",
              "    </tr>\n",
              "    <tr>\n",
              "      <th>std</th>\n",
              "      <td>0.275491</td>\n",
              "      <td>12.376099</td>\n",
              "      <td>3.273727e+05</td>\n",
              "    </tr>\n",
              "    <tr>\n",
              "      <th>min</th>\n",
              "      <td>7.600000</td>\n",
              "      <td>28.000000</td>\n",
              "      <td>2.508800e+04</td>\n",
              "    </tr>\n",
              "    <tr>\n",
              "      <th>25%</th>\n",
              "      <td>7.700000</td>\n",
              "      <td>70.000000</td>\n",
              "      <td>5.552625e+04</td>\n",
              "    </tr>\n",
              "    <tr>\n",
              "      <th>50%</th>\n",
              "      <td>7.900000</td>\n",
              "      <td>79.000000</td>\n",
              "      <td>1.385485e+05</td>\n",
              "    </tr>\n",
              "    <tr>\n",
              "      <th>75%</th>\n",
              "      <td>8.100000</td>\n",
              "      <td>87.000000</td>\n",
              "      <td>3.741612e+05</td>\n",
              "    </tr>\n",
              "    <tr>\n",
              "      <th>max</th>\n",
              "      <td>9.300000</td>\n",
              "      <td>100.000000</td>\n",
              "      <td>2.343110e+06</td>\n",
              "    </tr>\n",
              "  </tbody>\n",
              "</table>\n",
              "</div>"
            ],
            "text/plain": [
              "       IMDB_Rating  Meta_score   No_of_Votes\n",
              "count  1000.000000  843.000000  1.000000e+03\n",
              "mean      7.949300   77.971530  2.736929e+05\n",
              "std       0.275491   12.376099  3.273727e+05\n",
              "min       7.600000   28.000000  2.508800e+04\n",
              "25%       7.700000   70.000000  5.552625e+04\n",
              "50%       7.900000   79.000000  1.385485e+05\n",
              "75%       8.100000   87.000000  3.741612e+05\n",
              "max       9.300000  100.000000  2.343110e+06"
            ]
          },
          "execution_count": 8,
          "metadata": {},
          "output_type": "execute_result"
        }
      ],
      "source": [
        "# statistical description of dataset\n",
        "df.describe()"
      ]
    },
    {
      "cell_type": "markdown",
      "id": "06d6e546",
      "metadata": {
        "papermill": {
          "duration": 0.007876,
          "end_time": "2022-07-07T16:44:58.885350",
          "exception": false,
          "start_time": "2022-07-07T16:44:58.877474",
          "status": "completed"
        },
        "tags": [],
        "id": "06d6e546"
      },
      "source": [
        "# **Missing data**"
      ]
    },
    {
      "cell_type": "code",
      "execution_count": null,
      "id": "5aacf9d4",
      "metadata": {
        "execution": {
          "iopub.execute_input": "2022-07-07T16:44:58.903925Z",
          "iopub.status.busy": "2022-07-07T16:44:58.902852Z",
          "iopub.status.idle": "2022-07-07T16:44:58.914989Z",
          "shell.execute_reply": "2022-07-07T16:44:58.913811Z"
        },
        "papermill": {
          "duration": 0.023905,
          "end_time": "2022-07-07T16:44:58.917381",
          "exception": false,
          "start_time": "2022-07-07T16:44:58.893476",
          "status": "completed"
        },
        "tags": [],
        "id": "5aacf9d4",
        "outputId": "1ffab3e2-b47d-495f-829a-6d43ac1960e3"
      },
      "outputs": [
        {
          "data": {
            "text/plain": [
              "Poster_Link        0\n",
              "Series_Title       0\n",
              "Released_Year      0\n",
              "Certificate      101\n",
              "Runtime            0\n",
              "Genre              0\n",
              "IMDB_Rating        0\n",
              "Overview           0\n",
              "Meta_score       157\n",
              "Director           0\n",
              "Star1              0\n",
              "Star2              0\n",
              "Star3              0\n",
              "Star4              0\n",
              "No_of_Votes        0\n",
              "Gross            169\n",
              "dtype: int64"
            ]
          },
          "execution_count": 9,
          "metadata": {},
          "output_type": "execute_result"
        }
      ],
      "source": [
        "# to find the sum of null values in the dataset\n",
        "df.isnull().sum()"
      ]
    },
    {
      "cell_type": "code",
      "execution_count": null,
      "id": "a036bf28",
      "metadata": {
        "execution": {
          "iopub.execute_input": "2022-07-07T16:44:58.935538Z",
          "iopub.status.busy": "2022-07-07T16:44:58.934746Z",
          "iopub.status.idle": "2022-07-07T16:44:58.945183Z",
          "shell.execute_reply": "2022-07-07T16:44:58.944134Z"
        },
        "papermill": {
          "duration": 0.02264,
          "end_time": "2022-07-07T16:44:58.948006",
          "exception": false,
          "start_time": "2022-07-07T16:44:58.925366",
          "status": "completed"
        },
        "tags": [],
        "id": "a036bf28"
      },
      "outputs": [],
      "source": [
        "df['Certificate'] = df['Certificate'].fillna(df['Certificate'].mode()[0])\n",
        "df['Meta_score'] = df['Meta_score'].fillna(df['Meta_score'].median())\n",
        "df['Gross'] = df['Gross'].fillna(df['Gross'].mode()[0])"
      ]
    },
    {
      "cell_type": "code",
      "execution_count": null,
      "id": "11056291",
      "metadata": {
        "execution": {
          "iopub.execute_input": "2022-07-07T16:44:58.966590Z",
          "iopub.status.busy": "2022-07-07T16:44:58.965769Z",
          "iopub.status.idle": "2022-07-07T16:44:58.978715Z",
          "shell.execute_reply": "2022-07-07T16:44:58.977408Z"
        },
        "papermill": {
          "duration": 0.025353,
          "end_time": "2022-07-07T16:44:58.981387",
          "exception": false,
          "start_time": "2022-07-07T16:44:58.956034",
          "status": "completed"
        },
        "tags": [],
        "id": "11056291",
        "outputId": "4e757dd5-34ad-4e26-9cdc-e64c6dc85e72"
      },
      "outputs": [
        {
          "data": {
            "text/plain": [
              "Poster_Link      0\n",
              "Series_Title     0\n",
              "Released_Year    0\n",
              "Certificate      0\n",
              "Runtime          0\n",
              "Genre            0\n",
              "IMDB_Rating      0\n",
              "Overview         0\n",
              "Meta_score       0\n",
              "Director         0\n",
              "Star1            0\n",
              "Star2            0\n",
              "Star3            0\n",
              "Star4            0\n",
              "No_of_Votes      0\n",
              "Gross            0\n",
              "dtype: int64"
            ]
          },
          "execution_count": 11,
          "metadata": {},
          "output_type": "execute_result"
        }
      ],
      "source": [
        "# to find the sum of null values in the dataset\n",
        "df.isnull().sum()"
      ]
    },
    {
      "cell_type": "code",
      "execution_count": null,
      "id": "cf51f3ac",
      "metadata": {
        "execution": {
          "iopub.execute_input": "2022-07-07T16:44:59.000367Z",
          "iopub.status.busy": "2022-07-07T16:44:58.999696Z",
          "iopub.status.idle": "2022-07-07T16:44:59.015681Z",
          "shell.execute_reply": "2022-07-07T16:44:59.014358Z"
        },
        "papermill": {
          "duration": 0.028836,
          "end_time": "2022-07-07T16:44:59.018274",
          "exception": false,
          "start_time": "2022-07-07T16:44:58.989438",
          "status": "completed"
        },
        "tags": [],
        "id": "cf51f3ac",
        "outputId": "576106f9-2849-4524-ed51-5b7df58b2243"
      },
      "outputs": [
        {
          "name": "stdout",
          "output_type": "stream",
          "text": [
            "<class 'pandas.core.frame.DataFrame'>\n",
            "RangeIndex: 1000 entries, 0 to 999\n",
            "Data columns (total 16 columns):\n",
            " #   Column         Non-Null Count  Dtype  \n",
            "---  ------         --------------  -----  \n",
            " 0   Poster_Link    1000 non-null   object \n",
            " 1   Series_Title   1000 non-null   object \n",
            " 2   Released_Year  1000 non-null   object \n",
            " 3   Certificate    1000 non-null   object \n",
            " 4   Runtime        1000 non-null   object \n",
            " 5   Genre          1000 non-null   object \n",
            " 6   IMDB_Rating    1000 non-null   float64\n",
            " 7   Overview       1000 non-null   object \n",
            " 8   Meta_score     1000 non-null   float64\n",
            " 9   Director       1000 non-null   object \n",
            " 10  Star1          1000 non-null   object \n",
            " 11  Star2          1000 non-null   object \n",
            " 12  Star3          1000 non-null   object \n",
            " 13  Star4          1000 non-null   object \n",
            " 14  No_of_Votes    1000 non-null   int64  \n",
            " 15  Gross          1000 non-null   object \n",
            "dtypes: float64(2), int64(1), object(13)\n",
            "memory usage: 125.1+ KB\n"
          ]
        }
      ],
      "source": [
        "df.info()"
      ]
    },
    {
      "cell_type": "code",
      "execution_count": null,
      "id": "2e1fa048",
      "metadata": {
        "execution": {
          "iopub.execute_input": "2022-07-07T16:44:59.037047Z",
          "iopub.status.busy": "2022-07-07T16:44:59.036676Z",
          "iopub.status.idle": "2022-07-07T16:44:59.142097Z",
          "shell.execute_reply": "2022-07-07T16:44:59.140723Z"
        },
        "papermill": {
          "duration": 0.119056,
          "end_time": "2022-07-07T16:44:59.145950",
          "exception": false,
          "start_time": "2022-07-07T16:44:59.026894",
          "status": "completed"
        },
        "tags": [],
        "id": "2e1fa048",
        "outputId": "11ded7c6-59c0-4ef3-d124-2c8459e57b6e"
      },
      "outputs": [
        {
          "data": {
            "image/png": "[encoded data removed]",
            "text/plain": [
              "<Figure size 216x72 with 1 Axes>"
            ]
          },
          "metadata": {
            "needs_background": "light"
          },
          "output_type": "display_data"
        }
      ],
      "source": [
        "# Palette\n",
        "sns.palplot(['#f5c518', '#121212','#8b8b8b'])\n",
        "\n",
        "plt.title(\"IMDB Palette \",loc='left',fontfamily='Comic Sans MS',fontsize=15,y=1.2)\n",
        "plt.show()"
      ]
    },
    {
      "cell_type": "code",
      "execution_count": null,
      "id": "bf6e45d9",
      "metadata": {
        "execution": {
          "iopub.execute_input": "2022-07-07T16:44:59.180100Z",
          "iopub.status.busy": "2022-07-07T16:44:59.178934Z",
          "iopub.status.idle": "2022-07-07T16:44:59.484699Z",
          "shell.execute_reply": "2022-07-07T16:44:59.483764Z"
        },
        "papermill": {
          "duration": 0.325785,
          "end_time": "2022-07-07T16:44:59.486984",
          "exception": false,
          "start_time": "2022-07-07T16:44:59.161199",
          "status": "completed"
        },
        "tags": [],
        "id": "bf6e45d9",
        "outputId": "27a1769d-df42-4aeb-9a19-d61ec929027d"
      },
      "outputs": [
        {
          "data": {
            "text/plain": [
              "<AxesSubplot:xlabel='Certificate', ylabel='count'>"
            ]
          },
          "execution_count": 14,
          "metadata": {},
          "output_type": "execute_result"
        },
        {
          "data": {
            "image/png": "[encoded data removed]",
            "text/plain": [
              "<Figure size 1440x720 with 1 Axes>"
            ]
          },
          "metadata": {
            "needs_background": "light"
          },
          "output_type": "display_data"
        }
      ],
      "source": [
        "plt.figure(figsize=(20,10))\n",
        "sns.countplot(x='Certificate', order = df['Certificate'].value_counts().index[0:-1],palette =['#f5c518', '#121212','#8b8b8b'],data = df)"
      ]
    },
    {
      "cell_type": "code",
      "execution_count": null,
      "id": "305a57c4",
      "metadata": {
        "execution": {
          "iopub.execute_input": "2022-07-07T16:44:59.507798Z",
          "iopub.status.busy": "2022-07-07T16:44:59.506633Z",
          "iopub.status.idle": "2022-07-07T16:44:59.804311Z",
          "shell.execute_reply": "2022-07-07T16:44:59.803129Z"
        },
        "papermill": {
          "duration": 0.310449,
          "end_time": "2022-07-07T16:44:59.806923",
          "exception": false,
          "start_time": "2022-07-07T16:44:59.496474",
          "status": "completed"
        },
        "tags": [],
        "id": "305a57c4",
        "outputId": "93e33a70-2860-4c7b-d472-30d9489cdfbd"
      },
      "outputs": [
        {
          "data": {
            "text/plain": [
              "<AxesSubplot:xlabel='IMDB_Rating', ylabel='count'>"
            ]
          },
          "execution_count": 15,
          "metadata": {},
          "output_type": "execute_result"
        },
        {
          "data": {
            "image/png": "[encoded data removed]",
            "text/plain": [
              "<Figure size 1440x720 with 1 Axes>"
            ]
          },
          "metadata": {
            "needs_background": "light"
          },
          "output_type": "display_data"
        }
      ],
      "source": [
        "plt.figure(figsize=(20,10))\n",
        "sns.countplot(x='IMDB_Rating',palette =['#f5c518', '#121212','#8b8b8b'], data = df)"
      ]
    },
    {
      "cell_type": "code",
      "execution_count": null,
      "id": "4e1dc7bf",
      "metadata": {
        "execution": {
          "iopub.execute_input": "2022-07-07T16:44:59.827226Z",
          "iopub.status.busy": "2022-07-07T16:44:59.826862Z",
          "iopub.status.idle": "2022-07-07T16:45:00.993529Z",
          "shell.execute_reply": "2022-07-07T16:45:00.992556Z"
        },
        "papermill": {
          "duration": 1.179539,
          "end_time": "2022-07-07T16:45:00.995830",
          "exception": false,
          "start_time": "2022-07-07T16:44:59.816291",
          "status": "completed"
        },
        "tags": [],
        "id": "4e1dc7bf",
        "outputId": "264fb455-0e07-49c6-8ae9-0c58670efa4e"
      },
      "outputs": [
        {
          "data": {
            "text/plain": [
              "<AxesSubplot:xlabel='Certificate', ylabel='count'>"
            ]
          },
          "execution_count": 16,
          "metadata": {},
          "output_type": "execute_result"
        },
        {
          "data": {
            "image/png": "[encoded data removed]",
            "text/plain": [
              "<Figure size 1440x2160 with 1 Axes>"
            ]
          },
          "metadata": {
            "needs_background": "light"
          },
          "output_type": "display_data"
        }
      ],
      "source": [
        "plt.figure(figsize=(20,30))\n",
        "sns.countplot(x='Certificate',hue='IMDB_Rating',order = df['Certificate'].value_counts().index[0:-1],palette ='mako', data = df)"
      ]
    },
    {
      "cell_type": "code",
      "execution_count": null,
      "id": "acd988c1",
      "metadata": {
        "execution": {
          "iopub.execute_input": "2022-07-07T16:45:01.018365Z",
          "iopub.status.busy": "2022-07-07T16:45:01.017239Z",
          "iopub.status.idle": "2022-07-07T16:45:01.306179Z",
          "shell.execute_reply": "2022-07-07T16:45:01.304812Z"
        },
        "papermill": {
          "duration": 0.302761,
          "end_time": "2022-07-07T16:45:01.308687",
          "exception": false,
          "start_time": "2022-07-07T16:45:01.005926",
          "status": "completed"
        },
        "tags": [],
        "id": "acd988c1",
        "outputId": "fa8b2375-fc5f-462b-8697-2253474d1f6e"
      },
      "outputs": [
        {
          "data": {
            "image/png": "[encoded data removed]",
            "text/plain": [
              "<Figure size 1440x720 with 1 Axes>"
            ]
          },
          "metadata": {
            "needs_background": "light"
          },
          "output_type": "display_data"
        }
      ],
      "source": [
        "plt.figure(figsize=(20,10))\n",
        "plt.scatter(df['Certificate'], df['Meta_score'],color='#8b8b8b')\n",
        "plt.show()"
      ]
    },
    {
      "cell_type": "code",
      "execution_count": null,
      "id": "874d894e",
      "metadata": {
        "execution": {
          "iopub.execute_input": "2022-07-07T16:45:01.333519Z",
          "iopub.status.busy": "2022-07-07T16:45:01.333059Z",
          "iopub.status.idle": "2022-07-07T16:45:01.340200Z",
          "shell.execute_reply": "2022-07-07T16:45:01.339280Z"
        },
        "papermill": {
          "duration": 0.022123,
          "end_time": "2022-07-07T16:45:01.342555",
          "exception": false,
          "start_time": "2022-07-07T16:45:01.320432",
          "status": "completed"
        },
        "tags": [],
        "id": "874d894e",
        "outputId": "cf060d96-6674-4a9f-81f2-b36a142e0d78"
      },
      "outputs": [
        {
          "data": {
            "text/plain": [
              "202"
            ]
          },
          "execution_count": 18,
          "metadata": {},
          "output_type": "execute_result"
        }
      ],
      "source": [
        "df['Genre'].nunique()"
      ]
    },
    {
      "cell_type": "code",
      "execution_count": null,
      "id": "5dfae519",
      "metadata": {
        "execution": {
          "iopub.execute_input": "2022-07-07T16:45:01.367249Z",
          "iopub.status.busy": "2022-07-07T16:45:01.366507Z",
          "iopub.status.idle": "2022-07-07T16:45:01.648283Z",
          "shell.execute_reply": "2022-07-07T16:45:01.647060Z"
        },
        "papermill": {
          "duration": 0.296782,
          "end_time": "2022-07-07T16:45:01.650976",
          "exception": false,
          "start_time": "2022-07-07T16:45:01.354194",
          "status": "completed"
        },
        "tags": [],
        "id": "5dfae519",
        "outputId": "4dce7373-6dbb-4612-fe41-0e15759c9f45"
      },
      "outputs": [
        {
          "data": {
            "text/plain": [
              "<AxesSubplot:xlabel='Released_Year', ylabel='count'>"
            ]
          },
          "execution_count": 19,
          "metadata": {},
          "output_type": "execute_result"
        },
        {
          "data": {
            "image/png": "[encoded data removed]",
            "text/plain": [
              "<Figure size 1440x720 with 1 Axes>"
            ]
          },
          "metadata": {
            "needs_background": "light"
          },
          "output_type": "display_data"
        }
      ],
      "source": [
        "plt.figure(figsize=(20,10))\n",
        "sns.countplot(x='Released_Year',data=df,palette =['#f5c518', '#121212','#8b8b8b'], order=df['Released_Year'].value_counts().index[0:15])"
      ]
    }
  ],
  "metadata": {
    "kernelspec": {
      "display_name": "Python 3",
      "language": "python",
      "name": "python3"
    },
    "language_info": {
      "codemirror_mode": {
        "name": "ipython",
        "version": 3
      },
      "file_extension": ".py",
      "mimetype": "text/x-python",
      "name": "python",
      "nbconvert_exporter": "python",
      "pygments_lexer": "ipython3",
      "version": "3.7.12"
    },
    "papermill": {
      "default_parameters": {},
      "duration": 15.552598,
      "end_time": "2022-07-07T16:45:02.486317",
      "environment_variables": {},
      "exception": null,
      "input_path": "__notebook__.ipynb",
      "output_path": "__notebook__.ipynb",
      "parameters": {},
      "start_time": "2022-07-07T16:44:46.933719",
      "version": "2.3.4"
    },
    "colab": {
      "provenance": []
    }
  },
  "nbformat": 4,
  "nbformat_minor": 5
}